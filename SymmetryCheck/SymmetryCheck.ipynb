{
 "cells": [
  {
   "cell_type": "code",
   "execution_count": 13,
   "metadata": {},
   "outputs": [],
   "source": [
    "f=open('inputfile.txt','r')\n",
    "r=list(map(float,f.readlines()[1].split(\",\")))\n",
    "f.close()\n",
    "\n",
    "if (r[0]==r[1]==r[2] and r[3]==(r[4]-120)==(r[5]-240) and r[6]==r[7]==r[8] and r[9]==(r[10]-120)==(r[11]-240)):\n",
    "    status='Balanced'\n",
    "else:\n",
    "    status='Unbalanced'\n",
    "\n",
    "f=open('outputfile.txt','w+', encoding='utf-8')\n",
    "f.seek(0) \n",
    "f.write('The phase voltages are:\\n')\n",
    "f.write('VR='+str(r[0])+'\\u2220'+str(r[3])+'\\n')\n",
    "f.write('VY='+str(r[1])+'\\u2220'+str(r[4])+'\\n')\n",
    "f.write('VB='+str(r[2])+'\\u2220'+str(r[5])+'\\n')\n",
    "f.write('The phase currents are:\\n')\n",
    "f.write('IR='+str(r[6])+'\\u2220'+str(r[9])+'\\n')\n",
    "f.write('IY='+str(r[7])+'\\u2220'+str(r[10])+'\\n')\n",
    "f.write('IB='+str(r[8])+'\\u2220'+str(r[11])+'\\n')\n",
    "f.write('The electrical system is '+status+'\\n')\n",
    "f.close()\n"
   ]
  },
  {
   "cell_type": "code",
   "execution_count": null,
   "metadata": {},
   "outputs": [],
   "source": []
  }
 ],
 "metadata": {
  "kernelspec": {
   "display_name": "Python 3",
   "language": "python",
   "name": "python3"
  },
  "language_info": {
   "codemirror_mode": {
    "name": "ipython",
    "version": 3
   },
   "file_extension": ".py",
   "mimetype": "text/x-python",
   "name": "python",
   "nbconvert_exporter": "python",
   "pygments_lexer": "ipython3",
   "version": "3.8.1"
  }
 },
 "nbformat": 4,
 "nbformat_minor": 4
}
