{
 "cells": [
  {
   "cell_type": "code",
   "execution_count": 1,
   "metadata": {},
   "outputs": [
    {
     "name": "stdout",
     "output_type": "stream",
     "text": [
      "Opened database successfully\n"
     ]
    }
   ],
   "source": [
    "import psycopg2\n",
    "conn = psycopg2.connect(database=\"PowerSystem\", user = \"postgres\", password = \"postgres\", host = \"localhost\", port = \"5433\")\n",
    "print(\"Opened database successfully\")"
   ]
  },
  {
   "cell_type": "code",
   "execution_count": 3,
   "metadata": {},
   "outputs": [
    {
     "name": "stdout",
     "output_type": "stream",
     "text": [
      "Opened database successfully\n",
      "Table created successfully\n"
     ]
    }
   ],
   "source": [
    "#!/usr/bin/python\n",
    "\n",
    "import psycopg2\n",
    "\n",
    "conn = psycopg2.connect(database=\"PowerSystem\", user = \"postgres\", password = \"postgres\", host = \"localhost\", port = \"5433\")\n",
    "print(\"Opened database successfully\")\n",
    "\n",
    "cur = conn.cursor()\n",
    "cur.execute('''CREATE TABLE Generators\n",
    "      (gid INT PRIMARY KEY     NOT NULL,\n",
    "      gname           TEXT    NOT NULL,\n",
    "      gkva            real     NOT NULL);''')\n",
    "print(\"Table created successfully\") \n",
    "\n",
    "conn.commit()\n",
    "conn.close()"
   ]
  },
  {
   "cell_type": "code",
   "execution_count": 4,
   "metadata": {},
   "outputs": [
    {
     "name": "stdout",
     "output_type": "stream",
     "text": [
      "Opened database successfully\n",
      "Records created successfully\n"
     ]
    }
   ],
   "source": [
    "#!/usr/bin/python\n",
    "\n",
    "import psycopg2\n",
    "\n",
    "conn = psycopg2.connect(database=\"PowerSystem\", user = \"postgres\", password = \"postgres\", host = \"localhost\", port = \"5433\")\n",
    "print(\"Opened database successfully\")\n",
    "\n",
    "cur = conn.cursor()\n",
    "\n",
    "cur.execute(\"INSERT INTO generators (gid,gname,gkva) \\\n",
    "      VALUES (1, 'Jog', 5000)\");\n",
    "\n",
    "conn.commit()\n",
    "print(\"Records created successfully\");\n",
    "conn.close()"
   ]
  },
  {
   "cell_type": "code",
   "execution_count": 12,
   "metadata": {},
   "outputs": [
    {
     "name": "stdout",
     "output_type": "stream",
     "text": [
      "Opened database successfully\n",
      "GID =  2\n",
      "GNAME =  Sharavathi\n",
      "GKVA =  12000.0 \n",
      "\n",
      "Operation done successfully\n"
     ]
    }
   ],
   "source": [
    "#!/usr/bin/python\n",
    "\n",
    "import psycopg2\n",
    "\n",
    "conn = psycopg2.connect(database=\"PowerSystem\", user = \"postgres\", password = \"postgres\", host = \"localhost\", port = \"5433\")\n",
    "print(\"Opened database successfully\")\n",
    "\n",
    "cur = conn.cursor()\n",
    "\n",
    "cur.execute(\"SELECT gid, gname, gkva from generators\")\n",
    "rows = cur.fetchall()\n",
    "for row in rows:\n",
    "   print(\"GID = \", row[0]) \n",
    "   print(\"GNAME = \", row[1]) \n",
    "   print(\"GKVA = \", row[2], \"\\n\")\n",
    "\n",
    "print(\"Operation done successfully\")\n",
    "conn.close()"
   ]
  },
  {
   "cell_type": "code",
   "execution_count": 8,
   "metadata": {},
   "outputs": [
    {
     "name": "stdout",
     "output_type": "stream",
     "text": [
      "Opened database successfully\n"
     ]
    }
   ],
   "source": [
    "import psycopg2\n",
    "\n",
    "conn = psycopg2.connect(database=\"PowerSystem\", user = \"postgres\", password = \"postgres\", host = \"localhost\", port = \"5433\")\n",
    "print(\"Opened database successfully\")\n",
    "\n",
    "cur = conn.cursor()\n",
    "cur.execute(\"UPDATE generators set gkva = 6000.00 where gid = 1\")\n",
    "conn.commit()\n",
    "conn.close()"
   ]
  },
  {
   "cell_type": "code",
   "execution_count": 11,
   "metadata": {},
   "outputs": [
    {
     "name": "stdout",
     "output_type": "stream",
     "text": [
      "Opened database successfully\n",
      "Total number of rows deleted : 1\n"
     ]
    }
   ],
   "source": [
    "import psycopg2\n",
    "\n",
    "conn = psycopg2.connect(database=\"PowerSystem\", user = \"postgres\", password = \"postgres\", host = \"localhost\", port = \"5433\")\n",
    "print(\"Opened database successfully\")\n",
    "\n",
    "cur = conn.cursor()\n",
    "cur.execute(\"DELETE from generators where gid=1;\")\n",
    "conn.commit()\n",
    "print(\"Total number of rows deleted :\", cur.rowcount)\n",
    "conn.close()"
   ]
  },
  {
   "cell_type": "code",
   "execution_count": null,
   "metadata": {},
   "outputs": [],
   "source": []
  }
 ],
 "metadata": {
  "kernelspec": {
   "display_name": "Python 3",
   "language": "python",
   "name": "python3"
  },
  "language_info": {
   "codemirror_mode": {
    "name": "ipython",
    "version": 3
   },
   "file_extension": ".py",
   "mimetype": "text/x-python",
   "name": "python",
   "nbconvert_exporter": "python",
   "pygments_lexer": "ipython3",
   "version": "3.8.1"
  }
 },
 "nbformat": 4,
 "nbformat_minor": 4
}
