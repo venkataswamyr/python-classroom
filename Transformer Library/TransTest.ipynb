{
 "cells": [
  {
   "cell_type": "code",
   "execution_count": 6,
   "metadata": {},
   "outputs": [
    {
     "name": "stdout",
     "output_type": "stream",
     "text": [
      "EMF = 44400.00\n",
      "Regulation = 2.17\n",
      "Efficiency = 98.81\n"
     ]
    }
   ],
   "source": [
    "from TransformerLib import *\n",
    "TransLib=TransformerLib()\n",
    "\n",
    "TransLib.TransformerEMF(50, 200, 1)\n",
    "print(f'EMF = {TransLib.EMF:.2f}')\n",
    "\n",
    "TransLib.TransformerRegulation(230, 225)\n",
    "print(f'Regulation = {TransLib.Regulation:.2f}')\n",
    "\n",
    "\n",
    "TransLib.TransformerEfficiency(250, 1, 2)\n",
    "print(f'Efficiency = {TransLib.Eff:.2f}')"
   ]
  },
  {
   "cell_type": "code",
   "execution_count": null,
   "metadata": {},
   "outputs": [],
   "source": []
  },
  {
   "cell_type": "code",
   "execution_count": null,
   "metadata": {},
   "outputs": [],
   "source": []
  },
  {
   "cell_type": "code",
   "execution_count": null,
   "metadata": {},
   "outputs": [],
   "source": []
  }
 ],
 "metadata": {
  "kernelspec": {
   "display_name": "Python 3",
   "language": "python",
   "name": "python3"
  },
  "language_info": {
   "codemirror_mode": {
    "name": "ipython",
    "version": 3
   },
   "file_extension": ".py",
   "mimetype": "text/x-python",
   "name": "python",
   "nbconvert_exporter": "python",
   "pygments_lexer": "ipython3",
   "version": "3.8.5"
  }
 },
 "nbformat": 4,
 "nbformat_minor": 4
}
