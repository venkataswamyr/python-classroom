{
 "cells": [
  {
   "cell_type": "markdown",
   "id": "9dff4c36",
   "metadata": {},
   "source": [
    "# Ohms Law\n",
    "\n",
    "Findr **I**, for given **V** and **R** in $\\Omega$ \n",
    "- For AC Circuit.\n",
    "\t> Consider frequency.\n",
    "- For DC Circuit.\n",
    "\t> Do not Consider frequency."
   ]
  },
  {
   "cell_type": "code",
   "execution_count": 4,
   "id": "68cb13b2",
   "metadata": {},
   "outputs": [
    {
     "name": "stdout",
     "output_type": "stream",
     "text": [
      "Resistance =  0.5 Ω\n"
     ]
    }
   ],
   "source": [
    "V=10\n",
    "R=20\n",
    "I=V/R;\n",
    "print('Resistance = ',I,'\\u03A9')"
   ]
  },
  {
   "cell_type": "markdown",
   "id": "b7fa1bcc",
   "metadata": {},
   "source": []
  }
 ],
 "metadata": {
  "kernelspec": {
   "display_name": "Python 3",
   "language": "python",
   "name": "python3"
  },
  "language_info": {
   "codemirror_mode": {
    "name": "ipython",
    "version": 3
   },
   "file_extension": ".py",
   "mimetype": "text/x-python",
   "name": "python",
   "nbconvert_exporter": "python",
   "pygments_lexer": "ipython3",
   "version": "3.8.5"
  }
 },
 "nbformat": 4,
 "nbformat_minor": 5
}
