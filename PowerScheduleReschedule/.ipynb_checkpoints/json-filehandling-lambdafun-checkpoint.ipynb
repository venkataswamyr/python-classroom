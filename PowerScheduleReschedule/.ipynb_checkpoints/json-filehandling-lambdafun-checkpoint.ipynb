{
 "cells": [
  {
   "cell_type": "code",
   "execution_count": 10,
   "metadata": {},
   "outputs": [
    {
     "name": "stdout",
     "output_type": "stream",
     "text": [
      "{'F1': 3, 'F2': 2}\n",
      "{'F1': 2.5, 'F2': 2.5}\n"
     ]
    }
   ],
   "source": [
    "import json\n",
    "f=open('powerschedule.json','r')\n",
    "data=json.load(f)\n",
    "print(data)\n",
    "f.close()\n",
    "data1={\"F1\":2.5,\"F2\":2.5}\n",
    "print(data1)\n",
    "f=open('powerreschedule.json','w+')\n",
    "json.dump(data1,f)\n",
    "f.close()\n"
   ]
  },
  {
   "cell_type": "code",
   "execution_count": 7,
   "metadata": {},
   "outputs": [
    {
     "name": "stdout",
     "output_type": "stream",
     "text": [
      "4\n"
     ]
    }
   ],
   "source": [
    "f=lambda x: x*x\n",
    "print(f(2))"
   ]
  },
  {
   "cell_type": "code",
   "execution_count": 8,
   "metadata": {},
   "outputs": [
    {
     "name": "stdout",
     "output_type": "stream",
     "text": [
      "250.0\n"
     ]
    }
   ],
   "source": [
    "f=lambda phi, z, n, p, a: (phi*z*n*p)/(60*a)\n",
    "print(f(1,10,1500,4,4))"
   ]
  },
  {
   "cell_type": "code",
   "execution_count": null,
   "metadata": {},
   "outputs": [],
   "source": []
  }
 ],
 "metadata": {
  "kernelspec": {
   "display_name": "Python 3",
   "language": "python",
   "name": "python3"
  },
  "language_info": {
   "codemirror_mode": {
    "name": "ipython",
    "version": 3
   },
   "file_extension": ".py",
   "mimetype": "text/x-python",
   "name": "python",
   "nbconvert_exporter": "python",
   "pygments_lexer": "ipython3",
   "version": "3.8.1"
  }
 },
 "nbformat": 4,
 "nbformat_minor": 4
}
